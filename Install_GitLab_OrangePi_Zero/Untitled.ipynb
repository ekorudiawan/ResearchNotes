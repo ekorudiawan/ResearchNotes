{
 "cells": [
  {
   "cell_type": "markdown",
   "metadata": {},
   "source": [
    "# Step by Step Install GitLab on OrangePi Zero\n",
    "\n",
    "## Tools & Software Requirment\n",
    "\n",
    "Requirment hardware :\n",
    "1. MicroSD \n",
    "2. USB Memory Adapter\n",
    "3. 5V Power Adapter\n",
    "\n",
    "Requirment software :\n",
    "\n",
    "1. [ARMBian for OrangePi Zero](https://www.armbian.com/orange-pi/) \n",
    "2. [Win32DiskImager](https://sourceforge.net/projects/win32diskimager/)\n",
    "3. [Putty](https://www.putty.org/)\n",
    "\n",
    "## Setup OS Armbian\n",
    "\n",
    "### Prepare OS File\n",
    "\n",
    "1. Ekstrak file Armbian_5.38_Bananapi_Ubuntu_xenial_default_3.4.113_desktop ke dalam sebuah folder\n",
    "2. Masukkan MicroSD ke dalam USB Memory Adapter \n",
    "3. Buka aplikasi Win32DiskImager, pilih image file dan lokasi MicroSD. Klik tombol Write untuk meng-*copy* image file ke dalam Micro SD ![Win32DiskImager](assets/win32diskimager.png)\n",
    "4. Pastikan proses selesai dengan sukses ![Write Success](assets/write_success.png)\n",
    "\n",
    "### First Running ARMbian\n",
    "1. Masukkan MicroSD ke dalam slot micro SD pada OrangePi Zero\n",
    "2. Hubungkan USB To Serial Adapter ke pin serial OrangePi Zero dengan koneksi sebagai berikut\n",
    "3. Lakukan setting static IP address port ethernet agar bisa diremote menggunakan SSH\n",
    "4. Untuk koneksi ke wifi lakukan denngan nmclI\n",
    "\n",
    "sudo service network-manager restart\n",
    "sudo nmcli c\n",
    "\n",
    "settingan interfaces tidak usah tambah wifi\n",
    "\n",
    "[sdfsd](https://askubuntu.com/questions/461825/how-to-connect-to-wifi-from-the-command-line)\n",
    "\n",
    "KONEK KE INET\n",
    "sudo nmcli c up id Andromax-M3Z-00CC\n",
    "\n",
    "## Setup GitLab"
   ]
  },
  {
   "cell_type": "code",
   "execution_count": null,
   "metadata": {},
   "outputs": [],
   "source": []
  }
 ],
 "metadata": {
  "kernelspec": {
   "display_name": "Python 2",
   "language": "python",
   "name": "python2"
  },
  "language_info": {
   "codemirror_mode": {
    "name": "ipython",
    "version": 2
   },
   "file_extension": ".py",
   "mimetype": "text/x-python",
   "name": "python",
   "nbconvert_exporter": "python",
   "pygments_lexer": "ipython2",
   "version": "2.7.14"
  }
 },
 "nbformat": 4,
 "nbformat_minor": 2
}
