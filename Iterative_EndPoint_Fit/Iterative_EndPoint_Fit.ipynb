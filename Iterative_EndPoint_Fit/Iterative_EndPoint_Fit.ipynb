{
 "cells": [
  {
   "cell_type": "markdown",
   "metadata": {},
   "source": [
    "# Iterative EndPoint Fit Algorithm"
   ]
  },
  {
   "cell_type": "markdown",
   "metadata": {},
   "source": [
    "## Dependencies\n",
    "\n",
    "1. NumPy\n",
    "2. SciPy\n",
    "3. MatplotLib\n",
    "4. Pandas\n",
    "5. Math"
   ]
  },
  {
   "cell_type": "code",
   "execution_count": 1,
   "metadata": {},
   "outputs": [],
   "source": [
    "import numpy as np\n",
    "import matplotlib.pyplot as plt\n",
    "import pandas as pd\n",
    "import math"
   ]
  },
  {
   "cell_type": "markdown",
   "metadata": {},
   "source": [
    "## Representasi Titik\n",
    "\n",
    "$P=\\{x,y\\}$"
   ]
  },
  {
   "cell_type": "code",
   "execution_count": 2,
   "metadata": {},
   "outputs": [],
   "source": [
    "p0 = np.array([10,5])"
   ]
  },
  {
   "cell_type": "code",
   "execution_count": 3,
   "metadata": {},
   "outputs": [
    {
     "data": {
      "text/plain": [
       "array([10,  5])"
      ]
     },
     "execution_count": 3,
     "metadata": {},
     "output_type": "execute_result"
    }
   ],
   "source": [
    "p0"
   ]
  },
  {
   "cell_type": "markdown",
   "metadata": {},
   "source": [
    "## Representasi Garis\n",
    "\n",
    "$\\overleftrightarrow{AB}$\n",
    "\n",
    "$L = \\{P_0,..,P_n\\}$\n"
   ]
  },
  {
   "cell_type": "code",
   "execution_count": 4,
   "metadata": {},
   "outputs": [],
   "source": [
    "p0 = np.array([0,0])\n",
    "p1 = np.array([10,10])\n",
    "l0 = np.array([p0,p1])"
   ]
  },
  {
   "cell_type": "code",
   "execution_count": 5,
   "metadata": {},
   "outputs": [
    {
     "data": {
      "text/plain": [
       "array([[ 0,  0],\n",
       "       [10, 10]])"
      ]
     },
     "execution_count": 5,
     "metadata": {},
     "output_type": "execute_result"
    }
   ],
   "source": [
    "l0"
   ]
  },
  {
   "cell_type": "markdown",
   "metadata": {},
   "source": [
    "## Dataset Titik"
   ]
  },
  {
   "cell_type": "code",
   "execution_count": 6,
   "metadata": {},
   "outputs": [],
   "source": [
    "p0 = np.array([0,0])\n",
    "p1 = np.array([2,2])\n",
    "p2 = np.array([3,4])\n",
    "p3 = np.array([4,10])\n",
    "\n",
    "dP = np.array([p0,p1,p2,p3])"
   ]
  },
  {
   "cell_type": "code",
   "execution_count": 7,
   "metadata": {
    "scrolled": false
   },
   "outputs": [
    {
     "data": {
      "text/plain": [
       "array([[ 0,  0],\n",
       "       [ 2,  2],\n",
       "       [ 3,  4],\n",
       "       [ 4, 10]])"
      ]
     },
     "execution_count": 7,
     "metadata": {},
     "output_type": "execute_result"
    }
   ],
   "source": [
    "dP"
   ]
  },
  {
   "cell_type": "code",
   "execution_count": 8,
   "metadata": {},
   "outputs": [
    {
     "data": {
      "text/plain": [
       "array([[0],\n",
       "       [2],\n",
       "       [3],\n",
       "       [4]])"
      ]
     },
     "execution_count": 8,
     "metadata": {},
     "output_type": "execute_result"
    }
   ],
   "source": [
    "# Menampilkan sumbu x dari dataset titik\n",
    "dP[:4,:1] "
   ]
  },
  {
   "cell_type": "code",
   "execution_count": 9,
   "metadata": {},
   "outputs": [
    {
     "data": {
      "text/plain": [
       "array([[ 0],\n",
       "       [ 2],\n",
       "       [ 4],\n",
       "       [10]])"
      ]
     },
     "execution_count": 9,
     "metadata": {},
     "output_type": "execute_result"
    }
   ],
   "source": [
    "# Menampilkan sumbu y dari dataset titik\n",
    "dP[:4,1:] "
   ]
  },
  {
   "cell_type": "code",
   "execution_count": 10,
   "metadata": {
    "scrolled": true
   },
   "outputs": [
    {
     "data": {
      "image/png": "[encoded data removed]",
      "text/plain": [
       "<matplotlib.figure.Figure at 0xcafd970>"
      ]
     },
     "metadata": {},
     "output_type": "display_data"
    }
   ],
   "source": [
    "plt.plot(dP[:4,:1], dP[:4,1:], 'ro')\n",
    "plt.axis([0, 5, 0, 15])\n",
    "plt.show()"
   ]
  },
  {
   "cell_type": "markdown",
   "metadata": {},
   "source": [
    "Mengambil nilai koordinat titik dari file csv"
   ]
  },
  {
   "cell_type": "code",
   "execution_count": 12,
   "metadata": {},
   "outputs": [],
   "source": [
    "df = pd.read_csv('C:\\Research\\IEPF-Line-Extraction\\Source-Code\\dataset.csv')\n",
    "dP = df.as_matrix()"
   ]
  },
  {
   "cell_type": "code",
   "execution_count": 13,
   "metadata": {},
   "outputs": [
    {
     "data": {
      "text/plain": [
       "array([[  0,   0, 349],\n",
       "       [  1,   0, 338],\n",
       "       [  2,   0, 327],\n",
       "       [  3,   0, 315],\n",
       "       [  4,   0, 304],\n",
       "       [  5,   0, 292],\n",
       "       [  6,   0, 281],\n",
       "       [  7,   0, 269],\n",
       "       [  8,   0, 256],\n",
       "       [  9,   0, 244],\n",
       "       [ 10,   0, 231],\n",
       "       [ 11,   0, 218],\n",
       "       [ 12,   0, 204],\n",
       "       [ 13,   0, 190],\n",
       "       [ 14,   0, 176],\n",
       "       [ 15,   0, 160],\n",
       "       [ 16,   0, 144],\n",
       "       [ 17,  18, 141],\n",
       "       [ 18,  53, 152],\n",
       "       [ 19,  69, 150],\n",
       "       [ 20,  92, 155],\n",
       "       [ 21, 113, 160],\n",
       "       [ 22, 127, 161],\n",
       "       [ 23, 145, 165],\n",
       "       [ 24, 159, 168],\n",
       "       [ 25, 176, 176],\n",
       "       [ 26, 187, 177],\n",
       "       [ 27, 195, 174],\n",
       "       [ 28, 205, 176],\n",
       "       [ 29, 215, 178],\n",
       "       [ 30, 224, 179],\n",
       "       [ 31, 233, 181],\n",
       "       [ 32, 242, 184],\n",
       "       [ 33, 250, 186],\n",
       "       [ 34, 257, 186],\n",
       "       [ 35, 265, 188],\n",
       "       [ 36, 272, 192],\n",
       "       [ 37, 279, 193],\n",
       "       [ 38, 285, 195],\n",
       "       [ 39, 292, 196],\n",
       "       [ 40, 298, 197],\n",
       "       [ 41, 303, 198],\n",
       "       [ 42, 309, 201],\n",
       "       [ 43, 315, 203],\n",
       "       [ 44, 320, 205],\n",
       "       [ 45, 325, 206],\n",
       "       [ 46, 330, 208],\n",
       "       [ 47, 335, 210],\n",
       "       [ 48, 341, 210],\n",
       "       [ 49, 346, 212],\n",
       "       [ 50, 351, 214],\n",
       "       [ 51, 356, 216],\n",
       "       [ 52, 361, 216],\n",
       "       [ 53, 366, 216],\n",
       "       [ 54, 372, 217],\n",
       "       [ 55, 376, 220],\n",
       "       [ 56, 382, 221],\n",
       "       [ 57, 387, 222],\n",
       "       [ 58, 393, 222],\n",
       "       [ 59, 408, 208],\n",
       "       [ 60, 401, 231],\n",
       "       [ 61, 412, 224],\n",
       "       [ 62, 411, 234],\n",
       "       [ 63, 416, 237],\n",
       "       [ 64, 422, 239],\n",
       "       [ 65, 428, 240],\n",
       "       [ 66, 434, 242],\n",
       "       [ 67, 439, 245],\n",
       "       [ 68, 445, 247],\n",
       "       [ 69, 451, 250],\n",
       "       [ 70, 459, 252],\n",
       "       [ 71, 467, 254],\n",
       "       [ 72, 475, 256],\n",
       "       [ 73, 481, 259],\n",
       "       [ 74, 491, 262],\n",
       "       [ 75, 500, 265],\n",
       "       [ 76, 510, 268],\n",
       "       [ 77, 519, 272],\n",
       "       [ 78, 529, 276],\n",
       "       [ 79, 541, 280],\n",
       "       [ 80, 556, 284],\n",
       "       [ 81, 570, 289],\n",
       "       [ 82, 587, 294],\n",
       "       [ 83, 606, 300],\n",
       "       [ 84, 623, 307],\n",
       "       [ 85, 626, 317],\n",
       "       [ 86, 639, 327],\n",
       "       [ 87, 639, 338],\n",
       "       [ 88, 639, 349]], dtype=int64)"
      ]
     },
     "execution_count": 13,
     "metadata": {},
     "output_type": "execute_result"
    }
   ],
   "source": [
    "dP"
   ]
  },
  {
   "cell_type": "code",
   "execution_count": 14,
   "metadata": {},
   "outputs": [],
   "source": [
    "dP = dP[:,1:]"
   ]
  },
  {
   "cell_type": "code",
   "execution_count": 15,
   "metadata": {
    "scrolled": true
   },
   "outputs": [
    {
     "data": {
      "text/plain": [
       "array([[  0, 349],\n",
       "       [  0, 338],\n",
       "       [  0, 327],\n",
       "       [  0, 315],\n",
       "       [  0, 304],\n",
       "       [  0, 292],\n",
       "       [  0, 281],\n",
       "       [  0, 269],\n",
       "       [  0, 256],\n",
       "       [  0, 244],\n",
       "       [  0, 231],\n",
       "       [  0, 218],\n",
       "       [  0, 204],\n",
       "       [  0, 190],\n",
       "       [  0, 176],\n",
       "       [  0, 160],\n",
       "       [  0, 144],\n",
       "       [ 18, 141],\n",
       "       [ 53, 152],\n",
       "       [ 69, 150],\n",
       "       [ 92, 155],\n",
       "       [113, 160],\n",
       "       [127, 161],\n",
       "       [145, 165],\n",
       "       [159, 168],\n",
       "       [176, 176],\n",
       "       [187, 177],\n",
       "       [195, 174],\n",
       "       [205, 176],\n",
       "       [215, 178],\n",
       "       [224, 179],\n",
       "       [233, 181],\n",
       "       [242, 184],\n",
       "       [250, 186],\n",
       "       [257, 186],\n",
       "       [265, 188],\n",
       "       [272, 192],\n",
       "       [279, 193],\n",
       "       [285, 195],\n",
       "       [292, 196],\n",
       "       [298, 197],\n",
       "       [303, 198],\n",
       "       [309, 201],\n",
       "       [315, 203],\n",
       "       [320, 205],\n",
       "       [325, 206],\n",
       "       [330, 208],\n",
       "       [335, 210],\n",
       "       [341, 210],\n",
       "       [346, 212],\n",
       "       [351, 214],\n",
       "       [356, 216],\n",
       "       [361, 216],\n",
       "       [366, 216],\n",
       "       [372, 217],\n",
       "       [376, 220],\n",
       "       [382, 221],\n",
       "       [387, 222],\n",
       "       [393, 222],\n",
       "       [408, 208],\n",
       "       [401, 231],\n",
       "       [412, 224],\n",
       "       [411, 234],\n",
       "       [416, 237],\n",
       "       [422, 239],\n",
       "       [428, 240],\n",
       "       [434, 242],\n",
       "       [439, 245],\n",
       "       [445, 247],\n",
       "       [451, 250],\n",
       "       [459, 252],\n",
       "       [467, 254],\n",
       "       [475, 256],\n",
       "       [481, 259],\n",
       "       [491, 262],\n",
       "       [500, 265],\n",
       "       [510, 268],\n",
       "       [519, 272],\n",
       "       [529, 276],\n",
       "       [541, 280],\n",
       "       [556, 284],\n",
       "       [570, 289],\n",
       "       [587, 294],\n",
       "       [606, 300],\n",
       "       [623, 307],\n",
       "       [626, 317],\n",
       "       [639, 327],\n",
       "       [639, 338],\n",
       "       [639, 349]], dtype=int64)"
      ]
     },
     "execution_count": 15,
     "metadata": {},
     "output_type": "execute_result"
    }
   ],
   "source": [
    "dP"
   ]
  },
  {
   "cell_type": "code",
   "execution_count": 16,
   "metadata": {},
   "outputs": [],
   "source": [
    "# Mencari total jumlah dataset point\n",
    "totP,_ = dP.shape"
   ]
  },
  {
   "cell_type": "code",
   "execution_count": 17,
   "metadata": {},
   "outputs": [
    {
     "data": {
      "text/plain": [
       "89"
      ]
     },
     "execution_count": 17,
     "metadata": {},
     "output_type": "execute_result"
    }
   ],
   "source": [
    "totP"
   ]
  },
  {
   "cell_type": "code",
   "execution_count": 18,
   "metadata": {
    "scrolled": true
   },
   "outputs": [
    {
     "data": {
      "image/png": "[encoded data removed]",
      "text/plain": [
       "<matplotlib.figure.Figure at 0xcb85ff0>"
      ]
     },
     "metadata": {},
     "output_type": "display_data"
    }
   ],
   "source": [
    "plt.plot(dP[:totP,:1], dP[:totP,1:], 'ro')\n",
    "plt.axis([0, 640, 0, 640])\n",
    "plt.show()"
   ]
  },
  {
   "cell_type": "code",
   "execution_count": 19,
   "metadata": {},
   "outputs": [],
   "source": [
    "# Fungsi load dataset\n",
    "# Input berupa file csv\n",
    "# Output berupa dataset point dalam bentuk kumpulan koordinat x,y\n",
    "def csvToDatasetPoint(csvFile):\n",
    "    df = pd.read_csv(csvFile)\n",
    "    dP = df.as_matrix()\n",
    "    dP = dP[:,1:]\n",
    "    return dP"
   ]
  },
  {
   "cell_type": "code",
   "execution_count": 21,
   "metadata": {},
   "outputs": [
    {
     "data": {
      "text/plain": [
       "array([[  0, 349],\n",
       "       [  0, 338],\n",
       "       [  0, 327],\n",
       "       [  0, 315],\n",
       "       [  0, 304],\n",
       "       [  0, 292],\n",
       "       [  0, 281],\n",
       "       [  0, 269],\n",
       "       [  0, 256],\n",
       "       [  0, 244],\n",
       "       [  0, 231],\n",
       "       [  0, 218],\n",
       "       [  0, 204],\n",
       "       [  0, 190],\n",
       "       [  0, 176],\n",
       "       [  0, 160],\n",
       "       [  0, 144],\n",
       "       [ 18, 141],\n",
       "       [ 53, 152],\n",
       "       [ 69, 150],\n",
       "       [ 92, 155],\n",
       "       [113, 160],\n",
       "       [127, 161],\n",
       "       [145, 165],\n",
       "       [159, 168],\n",
       "       [176, 176],\n",
       "       [187, 177],\n",
       "       [195, 174],\n",
       "       [205, 176],\n",
       "       [215, 178],\n",
       "       [224, 179],\n",
       "       [233, 181],\n",
       "       [242, 184],\n",
       "       [250, 186],\n",
       "       [257, 186],\n",
       "       [265, 188],\n",
       "       [272, 192],\n",
       "       [279, 193],\n",
       "       [285, 195],\n",
       "       [292, 196],\n",
       "       [298, 197],\n",
       "       [303, 198],\n",
       "       [309, 201],\n",
       "       [315, 203],\n",
       "       [320, 205],\n",
       "       [325, 206],\n",
       "       [330, 208],\n",
       "       [335, 210],\n",
       "       [341, 210],\n",
       "       [346, 212],\n",
       "       [351, 214],\n",
       "       [356, 216],\n",
       "       [361, 216],\n",
       "       [366, 216],\n",
       "       [372, 217],\n",
       "       [376, 220],\n",
       "       [382, 221],\n",
       "       [387, 222],\n",
       "       [393, 222],\n",
       "       [408, 208],\n",
       "       [401, 231],\n",
       "       [412, 224],\n",
       "       [411, 234],\n",
       "       [416, 237],\n",
       "       [422, 239],\n",
       "       [428, 240],\n",
       "       [434, 242],\n",
       "       [439, 245],\n",
       "       [445, 247],\n",
       "       [451, 250],\n",
       "       [459, 252],\n",
       "       [467, 254],\n",
       "       [475, 256],\n",
       "       [481, 259],\n",
       "       [491, 262],\n",
       "       [500, 265],\n",
       "       [510, 268],\n",
       "       [519, 272],\n",
       "       [529, 276],\n",
       "       [541, 280],\n",
       "       [556, 284],\n",
       "       [570, 289],\n",
       "       [587, 294],\n",
       "       [606, 300],\n",
       "       [623, 307],\n",
       "       [626, 317],\n",
       "       [639, 327],\n",
       "       [639, 338],\n",
       "       [639, 349]], dtype=int64)"
      ]
     },
     "execution_count": 21,
     "metadata": {},
     "output_type": "execute_result"
    }
   ],
   "source": [
    "csvToDatasetPoint('C:\\Research\\IEPF-Line-Extraction\\Source-Code\\dataset.csv')"
   ]
  },
  {
   "cell_type": "markdown",
   "metadata": {},
   "source": [
    "## Jarak antar titik\n",
    "Fungsi untuk menghitung jarak antara dua titik\n",
    "\n",
    "* Input : Koordinat titik A dan koordinat titik B\n",
    "\n",
    "* Ouput : Jarak antara dua titik"
   ]
  },
  {
   "cell_type": "code",
   "execution_count": 22,
   "metadata": {},
   "outputs": [],
   "source": [
    "def distancePointToPoint(p0, p1):\n",
    "    return math.sqrt(((p1[0]-p0[0])*(p1[0]-p0[0])) + ((p1[1]-p0[1])*(p1[1]-p0[1])))"
   ]
  },
  {
   "cell_type": "code",
   "execution_count": 23,
   "metadata": {},
   "outputs": [],
   "source": [
    "pointA = np.array([0,0])"
   ]
  },
  {
   "cell_type": "code",
   "execution_count": 24,
   "metadata": {},
   "outputs": [],
   "source": [
    "pointB = np.array([10,20])"
   ]
  },
  {
   "cell_type": "code",
   "execution_count": 25,
   "metadata": {
    "scrolled": true
   },
   "outputs": [
    {
     "data": {
      "text/plain": [
       "22.360679774997898"
      ]
     },
     "execution_count": 25,
     "metadata": {},
     "output_type": "execute_result"
    }
   ],
   "source": [
    "distancePointToPoint(pointA, pointB)"
   ]
  },
  {
   "cell_type": "markdown",
   "metadata": {},
   "source": [
    "## Fungsi Garis\n",
    "\n",
    "$y = mx + b$\n",
    "\n",
    "Fungsi untuk mencari persamaan garis\n",
    "\n",
    "* Input : Koordinat Titik 1 dan koordinat titik 2\n",
    "* Output : Nilai m (gradient) dan b (constanta)"
   ]
  },
  {
   "cell_type": "code",
   "execution_count": 26,
   "metadata": {},
   "outputs": [],
   "source": [
    "# Hanya berlaku jika garis memiliki kemiringan\n",
    "def lineFunction(l0):\n",
    "#     Tipe garis 0 = miring, 1 = gradien = 0, -1 gradien tak hingga\n",
    "    ltype = 0\n",
    "#     Jika delta x = 0\n",
    "    if l0[1,0] - l0[0,0] == 0:\n",
    "        ltype = -1\n",
    "    elif l0[1,1] - l0[0,1] == 0:\n",
    "        ltype = 1\n",
    "    else:\n",
    "        ltype = 0\n",
    "\n",
    "    if ltype == 0:\n",
    "        m = float(l0[1,1] - l0[0,1]) / float(l0[1,0] - l0[0,0])\n",
    "        b = float(l0[0,1] - m * l0[0,0])\n",
    "    else:\n",
    "        m = 0\n",
    "        b = 0\n",
    "        \n",
    "    return ltype, m, b"
   ]
  },
  {
   "cell_type": "code",
   "execution_count": 27,
   "metadata": {
    "scrolled": true
   },
   "outputs": [
    {
     "data": {
      "text/plain": [
       "(1, 0, 0)"
      ]
     },
     "execution_count": 27,
     "metadata": {},
     "output_type": "execute_result"
    }
   ],
   "source": [
    "p0 = np.array([10,0])\n",
    "p1 = np.array([0,0])\n",
    "\n",
    "l0 = np.array([p0,p1])\n",
    "\n",
    "lineFunction(l0)"
   ]
  },
  {
   "cell_type": "markdown",
   "metadata": {},
   "source": [
    "Convert y=mx+b to ax+bx+c=0\n",
    "https://www.youtube.com/watch?v=h13wI_gi4GA"
   ]
  },
  {
   "cell_type": "code",
   "execution_count": 28,
   "metadata": {},
   "outputs": [],
   "source": [
    "def convertToABC(ltype, m, b):\n",
    "    if ltype == -1:\n",
    "        _a = 0.00\n",
    "        _b = 0.00\n",
    "        _c = 0.00\n",
    "    elif ltype == 1:\n",
    "        _a = 0.00\n",
    "        _b = 0.00\n",
    "        _c = 0.00\n",
    "    else:\n",
    "        _a = m * -1.00\n",
    "        _b = 1.00\n",
    "        _c = b * -1.00\n",
    "    return _a, _b, _c"
   ]
  },
  {
   "cell_type": "code",
   "execution_count": 29,
   "metadata": {},
   "outputs": [],
   "source": [
    "a, b, c = convertToABC(0, 2, 1.6)"
   ]
  },
  {
   "cell_type": "code",
   "execution_count": 30,
   "metadata": {},
   "outputs": [
    {
     "data": {
      "text/plain": [
       "-2.0"
      ]
     },
     "execution_count": 30,
     "metadata": {},
     "output_type": "execute_result"
    }
   ],
   "source": [
    "a"
   ]
  },
  {
   "cell_type": "code",
   "execution_count": 31,
   "metadata": {},
   "outputs": [
    {
     "data": {
      "text/plain": [
       "1.0"
      ]
     },
     "execution_count": 31,
     "metadata": {},
     "output_type": "execute_result"
    }
   ],
   "source": [
    "b"
   ]
  },
  {
   "cell_type": "code",
   "execution_count": 32,
   "metadata": {},
   "outputs": [
    {
     "data": {
      "text/plain": [
       "-1.6"
      ]
     },
     "execution_count": 32,
     "metadata": {},
     "output_type": "execute_result"
    }
   ],
   "source": [
    "c"
   ]
  },
  {
   "cell_type": "markdown",
   "metadata": {},
   "source": [
    "## Jarak titik ke garis\n",
    "https://www.youtube.com/watch?v=h13wI_gi4GA\n",
    "\n",
    "$d = |ax + by + c| / $"
   ]
  },
  {
   "cell_type": "code",
   "execution_count": 33,
   "metadata": {},
   "outputs": [],
   "source": [
    "def distancePointToLine(p0, l0):\n",
    "#     Jika delta x = 0\n",
    "#     if l?[1,0] - l0[0,0] != 0:\n",
    "    ltype, m, b = lineFunction(l0)\n",
    "#     print ltype\n",
    "    _a, _b, _c = convertToABC(ltype, m, b)\n",
    "    d = 0\n",
    "    if ltype == -1:\n",
    "        d = abs(p0[0] - l0[0,0])\n",
    "    elif ltype == 1:\n",
    "        d = abs(p0[1] - l0[0,1])\n",
    "    else:\n",
    "        d = abs(_a * p0[0] + _b * p0[1] + _c) / math.sqrt(_a * _a + _b * _b)\n",
    "\n",
    "    return d\n",
    "    "
   ]
  },
  {
   "cell_type": "code",
   "execution_count": 34,
   "metadata": {},
   "outputs": [
    {
     "data": {
      "text/plain": [
       "8.94495361206257"
      ]
     },
     "execution_count": 34,
     "metadata": {},
     "output_type": "execute_result"
    }
   ],
   "source": [
    "# Example\n",
    "\n",
    "p0 = np.array([2,1])\n",
    "l0 = np.array([[0,100],[10,10]])\n",
    "\n",
    "distancePointToLine(p0, l0)"
   ]
  },
  {
   "cell_type": "markdown",
   "metadata": {},
   "source": [
    "## Iterative End Point Fit"
   ]
  },
  {
   "cell_type": "markdown",
   "metadata": {},
   "source": [
    "### Split\n",
    "\n",
    "Input berupa dataset point\n",
    "Ouput berupa cluster point"
   ]
  },
  {
   "cell_type": "code",
   "execution_count": 48,
   "metadata": {},
   "outputs": [],
   "source": [
    "def split(threshold, dP, eP):\n",
    "#     print 'Masuk IEPF'\n",
    "    maxD = 0\n",
    "    breakPointIndex = -1\n",
    "\n",
    "    totalPoint, _ = dP.shape\n",
    "    totalEndPoint = eP.size\n",
    "    \n",
    "    for i in range(0,totalEndPoint-1):\n",
    "        eP0 = eP[i]\n",
    "        ePN = eP[i+1] - 1 # Ini coba di cek lagi\n",
    "\n",
    "        l0 = np.array([dP[eP0],dP[ePN]])\n",
    "\n",
    "        for j in range(eP[i],eP[i+1]):\n",
    "            tempD =  distancePointToLine(dP[j], l0)\n",
    "            if tempD > threshold:\n",
    "                if (tempD > maxD):\n",
    "                    maxD = tempD\n",
    "                    breakPointIndex = j\n",
    "        \n",
    "    if breakPointIndex != -1:\n",
    "        eP = np.insert(eP, [totalEndPoint-1], breakPointIndex)\n",
    "        eP = split(threshold, dP, eP)\n",
    "        \n",
    "    return eP    "
   ]
  },
  {
   "cell_type": "code",
   "execution_count": 147,
   "metadata": {
    "scrolled": true
   },
   "outputs": [
    {
     "data": {
      "image/png": "[encoded data removed]",
      "text/plain": [
       "<matplotlib.figure.Figure at 0xf350dd0>"
      ]
     },
     "metadata": {},
     "output_type": "display_data"
    }
   ],
   "source": [
    "dP = csvToDatasetPoint('C:\\Research\\IEPF-Line-Extraction\\Source-Code\\dataset.csv')\n",
    "totalP, _ = dP.shape\n",
    "\n",
    "# print 'Jumlah Point'\n",
    "# print jumlahPoint\n",
    "\n",
    "p0 = np.array([dP[0,0],dP[0,1]])\n",
    "p1 = np.array([dP[totalP-1,0],dP[totalP-1,1]])\n",
    "eP = np.array([0,totalP-1])\n",
    "# print p\n",
    "\n",
    "# a = e\n",
    "# print p.size\n",
    "eP = split(30, dP, eP)\n",
    "totalEP = eP.size\n",
    "# print eP.size\n",
    "# X\n",
    "# print dP[eP[0:4],:1] \n",
    "# print dP[eP[0:4],1:] \n",
    "plt.plot(dP[:totalP,:1], dP[:totalP,1:], 'ro')\n",
    "plt.plot(dP[eP[0:totalEP],:1], dP[eP[0:totalEP],1:])\n",
    "plt.axis([0, 640, 0, 640])\n",
    "plt.show()\n"
   ]
  },
  {
   "cell_type": "markdown",
   "metadata": {},
   "source": [
    "### Merge\n",
    "\n",
    "Input berupa minimal panjang, dataset point dan endpoint awal\n",
    "Outpu berupa endpoint yang sudah di merge"
   ]
  },
  {
   "cell_type": "code",
   "execution_count": 148,
   "metadata": {},
   "outputs": [],
   "source": [
    "def merge(threshold, dP, eP):\n",
    "#     print dP\n",
    "    totalEndPoint = eP.size\n",
    "#     print totalEndPoint-1\n",
    "    # Jangan pakai in range\n",
    "    i = 0\n",
    "    while i < totalEndPoint-1 :\n",
    "#     for i in range(0, totalEndPoint-1):\n",
    "        print 'I = {}'.format(i)\n",
    "        print 'eP Index = {}'.format(i)\n",
    "        print 'totalEndPoint = {}'.format(totalEndPoint)\n",
    "        eP0 = eP[i]\n",
    "        ePN = eP[i+1] \n",
    "        \n",
    "        print 'eP0 = {}'.format(eP0)\n",
    "        print 'ePN = {}'.format(ePN)\n",
    "        tempD = distancePointToPoint(dP[eP0], dP[ePN])\n",
    "        print tempD\n",
    "        # Jika jarak antara kedua titik kurang dari threshold\n",
    "        if tempD < threshold:\n",
    "            # Delete endpoint\n",
    "            eP = np.delete(eP,[i+1])\n",
    "#             totalEndPoint = totalEndPoint - 2\n",
    "            # Update latest totalEndPoint\n",
    "            totalEndPoint = eP.size\n",
    "            print 'Merge'\n",
    "        i = i + 1\n",
    "        print '---------------------'\n",
    "    return eP"
   ]
  },
  {
   "cell_type": "code",
   "execution_count": 149,
   "metadata": {},
   "outputs": [
    {
     "name": "stdout",
     "output_type": "stream",
     "text": [
      "[ 0 17 59 88]\n"
     ]
    }
   ],
   "source": [
    "print eP"
   ]
  },
  {
   "cell_type": "code",
   "execution_count": 150,
   "metadata": {},
   "outputs": [
    {
     "name": "stdout",
     "output_type": "stream",
     "text": [
      "I = 0\n",
      "eP Index = 0\n",
      "totalEndPoint = 4\n",
      "eP0 = 0\n",
      "ePN = 17\n",
      "208.777393412\n",
      "---------------------\n",
      "I = 1\n",
      "eP Index = 1\n",
      "totalEndPoint = 4\n",
      "eP0 = 17\n",
      "ePN = 59\n",
      "395.71328004\n",
      "---------------------\n",
      "I = 2\n",
      "eP Index = 2\n",
      "totalEndPoint = 4\n",
      "eP0 = 59\n",
      "ePN = 88\n",
      "270.632592272\n",
      "---------------------\n"
     ]
    }
   ],
   "source": [
    "eP = merge(200, dP, eP)"
   ]
  },
  {
   "cell_type": "code",
   "execution_count": 151,
   "metadata": {
    "scrolled": true
   },
   "outputs": [
    {
     "data": {
      "text/plain": [
       "array([ 0, 17, 59, 88])"
      ]
     },
     "execution_count": 151,
     "metadata": {},
     "output_type": "execute_result"
    }
   ],
   "source": [
    "eP"
   ]
  },
  {
   "cell_type": "code",
   "execution_count": 152,
   "metadata": {},
   "outputs": [
    {
     "data": {
      "image/png": "[encoded data removed]",
      "text/plain": [
       "<matplotlib.figure.Figure at 0xf362170>"
      ]
     },
     "metadata": {},
     "output_type": "display_data"
    }
   ],
   "source": [
    "plt.plot(dP[:totalP,:1], dP[:totalP,1:], 'ro')\n",
    "plt.plot(dP[eP[0:totalEP],:1], dP[eP[0:totalEP],1:])\n",
    "plt.axis([0, 640, 0, 640])\n",
    "plt.show()"
   ]
  },
  {
   "cell_type": "markdown",
   "metadata": {},
   "source": [
    "## Least Square Method"
   ]
  },
  {
   "cell_type": "code",
   "execution_count": null,
   "metadata": {},
   "outputs": [],
   "source": [
    "import numpy as np"
   ]
  },
  {
   "cell_type": "code",
   "execution_count": null,
   "metadata": {},
   "outputs": [],
   "source": [
    "a = np.array([[2,3],[3,4]])"
   ]
  },
  {
   "cell_type": "code",
   "execution_count": null,
   "metadata": {},
   "outputs": [],
   "source": [
    "a"
   ]
  },
  {
   "cell_type": "code",
   "execution_count": null,
   "metadata": {},
   "outputs": [],
   "source": [
    "a = np.array([np.array([[2,3],[3,4]]),np.array([[4,5],[3,4],[5,6]])])"
   ]
  },
  {
   "cell_type": "code",
   "execution_count": null,
   "metadata": {},
   "outputs": [],
   "source": [
    "a"
   ]
  },
  {
   "cell_type": "code",
   "execution_count": null,
   "metadata": {},
   "outputs": [],
   "source": [
    "a[0]"
   ]
  },
  {
   "cell_type": "code",
   "execution_count": null,
   "metadata": {},
   "outputs": [],
   "source": [
    "a[1]"
   ]
  },
  {
   "cell_type": "code",
   "execution_count": null,
   "metadata": {},
   "outputs": [],
   "source": [
    "a[0,1]"
   ]
  },
  {
   "cell_type": "code",
   "execution_count": 157,
   "metadata": {},
   "outputs": [
    {
     "name": "stdout",
     "output_type": "stream",
     "text": [
      "Microsoft Windows [Version 10.0.16299.309]\r\n",
      "(c) 2017 Microsoft Corporation. All rights reserved.\r\n",
      "\r\n",
      "C:\\Research\\ResearchNotes\\Iterative_EndPoint_Fit>\n",
      "C:\\Research\\ResearchNotes\\Iterative_EndPoint_Fit>dir\n",
      " Volume in drive C has no label.\r\n",
      " Volume Serial Number is 6A45-D552\r\n",
      "\r\n",
      " Directory of C:\\Research\\ResearchNotes\\Iterative_EndPoint_Fit\r\n",
      "\r\n",
      "02/04/2018  14:19    <DIR>          .\r\n",
      "02/04/2018  14:19    <DIR>          ..\r\n",
      "01/04/2018  23:01    <DIR>          .ipynb_checkpoints\r\n",
      "02/04/2018  14:19            67.849 Iterative_EndPoint_Fit.ipynb\r\n",
      "               1 File(s)         67.849 bytes\r\n",
      "               3 Dir(s)  47.895.171.072 bytes free\r\n",
      "\r\n",
      "C:\\Research\\ResearchNotes\\Iterative_EndPoint_Fit>"
     ]
    }
   ],
   "source": [
    "%%cmd\n",
    "\n",
    "dir"
   ]
  },
  {
   "cell_type": "code",
   "execution_count": null,
   "metadata": {},
   "outputs": [],
   "source": []
  }
 ],
 "metadata": {
  "celltoolbar": "Raw Cell Format",
  "kernelspec": {
   "display_name": "Python 2",
   "language": "python",
   "name": "python2"
  },
  "language_info": {
   "codemirror_mode": {
    "name": "ipython",
    "version": 2
   },
   "file_extension": ".py",
   "mimetype": "text/x-python",
   "name": "python",
   "nbconvert_exporter": "python",
   "pygments_lexer": "ipython2",
   "version": "2.7.14"
  }
 },
 "nbformat": 4,
 "nbformat_minor": 2
}
